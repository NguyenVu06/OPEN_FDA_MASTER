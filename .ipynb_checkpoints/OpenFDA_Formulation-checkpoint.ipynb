{
 "cells": [
  {
   "cell_type": "code",
   "execution_count": 1,
   "metadata": {},
   "outputs": [
    {
     "data": {
      "text/plain": [
       "'\\nOpenFDA Label Query\\n'"
      ]
     },
     "execution_count": 1,
     "metadata": {},
     "output_type": "execute_result"
    }
   ],
   "source": [
    "'''\n",
    "OpenFDA Label Query\n",
    "'''"
   ]
  },
  {
   "cell_type": "code",
   "execution_count": 2,
   "metadata": {},
   "outputs": [],
   "source": [
    "# Import Necessary Modules (some may not be immediately necessary )\n",
    "import os\n",
    "import numpy as np\n",
    "import pandas as pd\n",
    "import requests\n",
    "import json\n",
    "import itertools\n",
    "import re"
   ]
  },
  {
   "cell_type": "code",
   "execution_count": 3,
   "metadata": {},
   "outputs": [],
   "source": [
    "def API_list(x):\n",
    "    pass"
   ]
  },
  {
   "cell_type": "code",
   "execution_count": 23,
   "metadata": {},
   "outputs": [],
   "source": [
    "fdg_target = \"midazolam,Propofol,cisatracurium,ciprofloxacin,Albuterol,Desloratadine,Donepezil,Ezetimibe,Glimepiride,Glipizide,Meloxicam,Metoclopramide,Ondansetron,Rivastigmine,Tolterodine\".lower()\n",
    "\n",
    "target_drugs_ls = fdg_target.split(\",\")"
   ]
  },
  {
   "cell_type": "code",
   "execution_count": 4,
   "metadata": {},
   "outputs": [],
   "source": [
    "def json_get(key_str, json_obj):\n",
    "    try:\n",
    "        return json_obj[key_str][0]\n",
    "    except (KeyError, AttributeError):\n",
    "        return 'Not_Found'\n",
    "    "
   ]
  },
  {
   "cell_type": "code",
   "execution_count": 5,
   "metadata": {},
   "outputs": [],
   "source": [
    "#define search Parameter\n",
    "\n",
    "#Enpoint to search for API from label\n",
    "url_root = \"https://api.fda.gov/drug/label.json?\"\n",
    "APIkey = \"api_key=ieSIcZGsM6K0XVG6kL7UiQb4Yw3cDN1z2bwO4XPl\"\n",
    "\n",
    "# Define search field\n",
    "field = \"openfda.substance_name:\"\n",
    "\n"
   ]
  },
  {
   "cell_type": "code",
   "execution_count": 31,
   "metadata": {},
   "outputs": [
    {
     "name": "stdout",
     "output_type": "stream",
     "text": [
      "No more matches found for midazolam\n",
      "No more matches found for propofol\n",
      "No more matches found for cisatracurium\n",
      "No more matches found for ciprofloxacin\n",
      "No more matches found for albuterol\n",
      "No more matches found for desloratadine\n",
      "No more matches found for donepezil\n",
      "No more matches found for ezetimibe\n",
      "No more matches found for glimepiride\n",
      "No more matches found for glipizide\n",
      "No more matches found for meloxicam\n",
      "No more matches found for metoclopramide\n",
      "No more matches found for ondansetron\n",
      "No more matches found for rivastigmine\n",
      "No more matches found for tolterodine\n"
     ]
    }
   ],
   "source": [
    "stored_results = {\n",
    "    \"API\":[],\n",
    "    \"Description\":[],\n",
    "    \"SPL\":[],\n",
    "    \"openFDA\":[]\n",
    "}\n",
    "\n",
    "\n",
    "for API in target_drugs_ls:\n",
    "    # define method to limit and skip through pages of query up to 26,000 results.\n",
    "    lim = 1000\n",
    "    skip = 0\n",
    " \n",
    "\n",
    "    while True:\n",
    "        lim_str = \"&limit=\"\n",
    "        skp_str = \"&skip=\"\n",
    "        query = url_root+APIkey+\"&search=\"+field+API+lim_str+str(lim)+skp_str+str(skip)\n",
    "        try:\n",
    "            req = requests.get(query)\n",
    "            req.raise_for_status()\n",
    "\n",
    "            #load Results to Json\n",
    "            js_read = req.json()\n",
    "            drug = js_read['results']\n",
    "            desc = [json_get(key_str='description', json_obj=i) for i in drug]\n",
    "            spl_elements = [json_get(key_str='spl_product_data_elements', json_obj=i) for i in drug]\n",
    "            open_fda = [i['openfda'] for i in drug]\n",
    "            \n",
    "            stored_results['API'].extend([API for i in drug])\n",
    "            stored_results['Description'].extend(desc)\n",
    "            stored_results['SPL'].extend(spl_elements)\n",
    "            stored_results['openFDA'].extend(open_fda)\n",
    "            \n",
    "            \n",
    "            skip += lim\n",
    "        except requests.exceptions.HTTPError as e:\n",
    "            print (\"No more matches found for {}\".format(API))\n",
    "            break\n",
    "\n",
    "\n"
   ]
  },
  {
   "cell_type": "code",
   "execution_count": 33,
   "metadata": {},
   "outputs": [
    {
     "data": {
      "text/plain": [
       "{'application_number': ['ANDA074880'],\n",
       " 'brand_name': ['Albuterol Sulfate'],\n",
       " 'generic_name': ['ALBUTEROL SULFATE'],\n",
       " 'manufacturer_name': ['NuCare Pharmaceuticals,Inc.'],\n",
       " 'product_ndc': ['68071-4754'],\n",
       " 'product_type': ['HUMAN PRESCRIPTION DRUG'],\n",
       " 'route': ['RESPIRATORY (INHALATION)'],\n",
       " 'substance_name': ['ALBUTEROL SULFATE'],\n",
       " 'rxcui': ['630208'],\n",
       " 'spl_id': ['ba76e9b5-4f01-69c0-e053-2a95a90a8b1e'],\n",
       " 'spl_set_id': ['813d49be-3651-6759-e053-2991aa0a6a9f'],\n",
       " 'package_ndc': ['68071-4754-2'],\n",
       " 'original_packager_product_ndc': ['0487-9501'],\n",
       " 'upc': ['0368071475425'],\n",
       " 'unii': ['021SEF3731']}"
      ]
     },
     "execution_count": 33,
     "metadata": {},
     "output_type": "execute_result"
    }
   ],
   "source": [
    "stored_results['openFDA'][345]"
   ]
  },
  {
   "cell_type": "code",
   "execution_count": 41,
   "metadata": {},
   "outputs": [
    {
     "name": "stdout",
     "output_type": "stream",
     "text": [
      "21\n"
     ]
    }
   ],
   "source": [
    "openfda_keys = []\n",
    "for i in (stored_results['openFDA']):\n",
    "    openfda_keys.extend(i.keys())\n",
    "\n",
    "openfda_keys = list(set(openfda_keys))\n",
    "\n",
    "print(len(openfda_keys))\n"
   ]
  },
  {
   "cell_type": "code",
   "execution_count": 53,
   "metadata": {},
   "outputs": [
    {
     "data": {
      "text/plain": [
       "{'nui': [],\n",
       " 'route': [],\n",
       " 'spl_set_id': [],\n",
       " 'pharm_class_pe': [],\n",
       " 'generic_name': [],\n",
       " 'brand_name': [],\n",
       " 'original_packager_product_ndc': [],\n",
       " 'rxcui': []}"
      ]
     },
     "execution_count": 53,
     "metadata": {},
     "output_type": "execute_result"
    }
   ],
   "source": [
    "openfda_dict"
   ]
  },
  {
   "cell_type": "code",
   "execution_count": 58,
   "metadata": {},
   "outputs": [],
   "source": [
    "#define columns to extract from the open_fda portions:\n",
    "openfda_idx = [3, 4, 7, 8, 9, 12, 14, 18]\n",
    "openfda_list = [openfda_keys[i] for i in openfda_idx ]\n",
    "openfda_dict = {i:[] for i in openfda_list}\n",
    "\n",
    "for i in stored_results['openFDA']:\n",
    "    for key in openfda_dict:\n",
    "        try:\n",
    "            openfda_dict[key].append(i[key])\n",
    "        except (KeyError, AttributeError):\n",
    "            openfda_dict[key].append([\"No_Info\"])\n",
    "    "
   ]
  },
  {
   "cell_type": "code",
   "execution_count": 71,
   "metadata": {},
   "outputs": [
    {
     "name": "stdout",
     "output_type": "stream",
     "text": [
      "<class 'dict'>\n",
      "<class 'dict'>\n"
     ]
    }
   ],
   "source": [
    "#combine dictionary\n",
    "\n",
    "print(type(stored_results))\n",
    "print(type(openfda_dict))\n",
    "\n",
    "data = {**stored_results, **openfda_dict}"
   ]
  },
  {
   "cell_type": "code",
   "execution_count": 72,
   "metadata": {},
   "outputs": [],
   "source": [
    "df_ = pd.DataFrame.from_dict(data)"
   ]
  },
  {
   "cell_type": "code",
   "execution_count": 77,
   "metadata": {},
   "outputs": [
    {
     "data": {
      "text/plain": [
       "(1185, 10)"
      ]
     },
     "execution_count": 77,
     "metadata": {},
     "output_type": "execute_result"
    }
   ],
   "source": [
    "df_.shape"
   ]
  },
  {
   "cell_type": "code",
   "execution_count": 26,
   "metadata": {},
   "outputs": [],
   "source": [
    "#Data Clean up methods:\n",
    "\n",
    "# Define a method to clean up the ingredients list:\n",
    "def getIngredients(x, active_list):\n",
    "    if type(x) is list:\n",
    "        words = \"\".join(x).upper().split(\" \")\n",
    "#         words = [v for i,v in enumerate(words) if i==0 or v!=words[i-1]]\n",
    "\n",
    "        api_words = \" \".join(active_list).upper()\n",
    "        words = [v for v in words if v not in api_words]\n",
    "        words = list(set(words))\n",
    "        #ingredients_list = \" \".join(words)\n",
    "        \n",
    "        return words\n",
    "    \n",
    "    else:\n",
    "        print(\"input must be a list\")\n",
    "\n",
    "\n",
    "# Define a method to flatten out the label NDc list\n",
    "def flatNDC(x):\n",
    "    if type(x) is list:\n",
    "        merged = list(itertools.chain(*x))\n",
    "    else:\n",
    "        merge = x\n",
    "    return merge\n",
    "\n",
    "\n",
    "# Define a method to extract concentrations based on what is in spl_product_data_elements\n",
    "\n",
    "def ingredientsConc(ingr_list, text):\n",
    "    if type(ingr_list) is list:\n",
    "        conc = []\n",
    "        words = \"\".join(ingr_list).upper().split(\" \")\n",
    "        words = [v for i,v in enumerate(words) if i==0 or v!=words[i-1]]\n",
    "        text_in = [text[0] if text==text else \"\"]\n",
    "        text_ = \"\".join(text_in)\n",
    "        for w in words:\n",
    "            pattern = r\"(\\d+[(.?\\d*\\W)|(?:mg|g|ml)]+\\s+{})\".format(w)\n",
    "            p = re.compile(pattern, re.IGNORECASE+re.M)\n",
    "            conc.append(p.findall(text_))\n",
    "        \n",
    "        merged_conc = list(itertools.chain(*conc))\n",
    "        merged_conc = [v for i,v in enumerate(merged_conc) if i==0 or v!=merged_conc[i-1]]\n",
    "        return merged_conc\n",
    "    \n",
    "    else:\n",
    "        print(\"Ingredient List must be a list\")\n",
    "        \n",
    "# define a method for storage temp extract\n",
    "\n",
    "def getStorage(storage_and_handling):\n",
    "    if type(storage_and_handling) is list:\n",
    "\n",
    "        words = \"\".join(storage_and_handling).lower()\n",
    "        \n",
    "        pattern_storeage = r\"(?<=store\\sat )(.*?)(?=\\()\"\n",
    "        p = re.compile(pattern_storeage, re.IGNORECASE+re.M)\n",
    "        store_temp  = p.findall(words)\n",
    "        \n",
    "        return store_temp\n",
    "    \n",
    "    else:\n",
    "        pass\n",
    "\n",
    "# define a method for extracting pH\n",
    "def getpH(description):\n",
    "    if type(description) is list:\n",
    "\n",
    "        words = \"\".join(description)\n",
    "        \n",
    "        pattern_pH = r\"(?<=pH\\s).*?(?=\\d)(\\d*\\W\\d*\\s+\\w+\\s+\\d+\\W\\d+)\"\n",
    "        simp_pattern_pH = r\"(?<=pH\\s).*?(?=\\d)(\\d)\"\n",
    "        store_pH  = re.search(pattern_pH, words, re.MULTILINE)\n",
    "        store_pH_simp  = re.search(simp_pattern_pH, words, re.MULTILINE)\n",
    "        \n",
    "        if store_pH is not None:\n",
    "            return store_pH.group(1)\n",
    "        if store_pH_simp is not None:\n",
    "            return store_pH_simp.group(1)\n",
    "    \n",
    "    else:\n",
    "        pass\n",
    "\n",
    "# define a method for extracting Dose\n",
    "def getDose(data_list):\n",
    "    dose_info = []\n",
    "    for l in data_list:\n",
    "        if type(l) is list:\n",
    "            words = \"\".join(l)\n",
    "            pattern_dose = r\"(multi\\w*|single)(?=\\-+dose)\"\n",
    "            store_dose  = re.search(pattern_dose, words, re.MULTILINE+re.IGNORECASE)\n",
    "            if store_dose is not None:\n",
    "                dose_info.append(store_dose.group(1))\n",
    "        else:\n",
    "            pass\n",
    "    \n",
    "    dose_out = \",\".join(dose_info)\n",
    "    return dose_out\n"
   ]
  },
  {
   "cell_type": "code",
   "execution_count": 27,
   "metadata": {},
   "outputs": [],
   "source": [
    "dict_1 = {'a':1, 'b':2, 'c':2, 'd':2, 'e':2}\n",
    "\n",
    "dict_2 = {'f':13, 'g':23, 'c':43, 'h':2, 'i':2}\n",
    "\n",
    "dict_3 = {**dict_1, **dict_2}"
   ]
  },
  {
   "cell_type": "code",
   "execution_count": 28,
   "metadata": {},
   "outputs": [
    {
     "data": {
      "text/plain": [
       "{'a': 1, 'b': 2, 'c': 43, 'd': 2, 'e': 2, 'f': 13, 'g': 23, 'h': 2, 'i': 2}"
      ]
     },
     "execution_count": 28,
     "metadata": {},
     "output_type": "execute_result"
    }
   ],
   "source": [
    "dict_3"
   ]
  },
  {
   "cell_type": "code",
   "execution_count": null,
   "metadata": {},
   "outputs": [],
   "source": []
  }
 ],
 "metadata": {
  "kernelspec": {
   "display_name": "Python 3",
   "language": "python",
   "name": "python3"
  },
  "language_info": {
   "codemirror_mode": {
    "name": "ipython",
    "version": 3
   },
   "file_extension": ".py",
   "mimetype": "text/x-python",
   "name": "python",
   "nbconvert_exporter": "python",
   "pygments_lexer": "ipython3",
   "version": "3.8.5"
  }
 },
 "nbformat": 4,
 "nbformat_minor": 4
}
