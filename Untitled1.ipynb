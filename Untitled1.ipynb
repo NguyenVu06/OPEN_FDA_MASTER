{
 "cells": [
  {
   "cell_type": "code",
   "execution_count": 1,
   "metadata": {},
   "outputs": [
    {
     "name": "stdout",
     "output_type": "stream",
     "text": [
      "Collecting python-daily-med\n",
      "  Downloading python-daily-med-0.1.0b76.tar.gz (313 kB)\n",
      "  Downloading python-daily-med-0.1.0b74.tar.gz (313 kB)\n",
      "  Downloading python-daily-med-0.1.0b72.tar.gz (313 kB)\n",
      "  Downloading python-daily-med-0.1.0b70.tar.gz (313 kB)\n",
      "  Downloading python-daily-med-0.1.0b68.tar.gz (313 kB)\n",
      "  Downloading python-daily-med-0.1.0b62.tar.gz (313 kB)\n",
      "  Downloading python-daily-med-0.1.0b60.tar.gz (313 kB)\n",
      "  Downloading python-daily-med-0.1.0b58.tar.gz (313 kB)\n",
      "  Downloading python-daily-med-0.1.0b57.tar.gz (313 kB)\n",
      "  Downloading python-daily-med-0.1.0b54.tar.gz (313 kB)\n",
      "  Downloading python-daily-med-0.1.0b52.tar.gz (313 kB)\n",
      "  Downloading python_daily_med-0.1.0b50-py3-none-any.whl (326 kB)\n",
      "Requirement already satisfied: requests in c:\\users\\nvu\\anaconda3\\lib\\site-packages (from python-daily-med) (2.24.0)\n",
      "Requirement already satisfied: xmltodict in c:\\users\\nvu\\anaconda3\\lib\\site-packages (from python-daily-med) (0.12.0)\n",
      "Collecting properties\n",
      "  Downloading properties-0.6.1.tar.gz (52 kB)\n",
      "Requirement already satisfied: six>=1.7.3 in c:\\users\\nvu\\anaconda3\\lib\\site-packages (from properties->python-daily-med) (1.15.0)\n",
      "Requirement already satisfied: idna<3,>=2.5 in c:\\users\\nvu\\anaconda3\\lib\\site-packages (from requests->python-daily-med) (2.10)\n",
      "Requirement already satisfied: certifi>=2017.4.17 in c:\\users\\nvu\\anaconda3\\lib\\site-packages (from requests->python-daily-med) (2020.6.20)\n",
      "Requirement already satisfied: urllib3!=1.25.0,!=1.25.1,<1.26,>=1.21.1 in c:\\users\\nvu\\anaconda3\\lib\\site-packages (from requests->python-daily-med) (1.25.11)\n",
      "Requirement already satisfied: chardet<4,>=3.0.2 in c:\\users\\nvu\\anaconda3\\lib\\site-packages (from requests->python-daily-med) (3.0.4)\n",
      "Building wheels for collected packages: properties\n",
      "  Building wheel for properties (setup.py): started\n",
      "  Building wheel for properties (setup.py): finished with status 'done'\n",
      "  Created wheel for properties: filename=properties-0.6.1-py3-none-any.whl size=58341 sha256=6b5f3f0f75c14bd593aab976d2df47aabd7cac937ee382a9c1143df7af1fcfa7\n",
      "  Stored in directory: c:\\users\\nvu\\appdata\\local\\pip\\cache\\wheels\\04\\a8\\b8\\b6944d21120ed979fc1c6692ca4131c565683c70ce00cab456\n",
      "Successfully built properties\n",
      "Installing collected packages: properties, python-daily-med\n",
      "Successfully installed properties-0.6.1 python-daily-med-0.1.0b50\n",
      "Note: you may need to restart the kernel to use updated packages.\n"
     ]
    },
    {
     "name": "stderr",
     "output_type": "stream",
     "text": [
      "WARNING: Discarding https://files.pythonhosted.org/packages/e4/fc/dc56c6fad432c301e54581a771a70436493c034ecfcfd9115b8abe0fed74/python-daily-med-0.1.0b76.tar.gz#sha256=01286cb866c95bb74f580b2d0e4f3ef8993057e562f7c312e79a1f2de908e236 (from https://pypi.org/simple/python-daily-med/). Requested python-daily-med from https://files.pythonhosted.org/packages/e4/fc/dc56c6fad432c301e54581a771a70436493c034ecfcfd9115b8abe0fed74/python-daily-med-0.1.0b76.tar.gz#sha256=01286cb866c95bb74f580b2d0e4f3ef8993057e562f7c312e79a1f2de908e236 has inconsistent version: filename has '0.1.0b76', but metadata has '0.0.0'\n",
      "WARNING: Discarding https://files.pythonhosted.org/packages/8b/1e/d67454bc5abb4b72184fe7ac40cdd518cc9774f3a350a3fa00e3da0110e5/python-daily-med-0.1.0b74.tar.gz#sha256=433f785348c59add420cc8da9381a25e675085e0dd8da473113da907de397619 (from https://pypi.org/simple/python-daily-med/). Requested python-daily-med from https://files.pythonhosted.org/packages/8b/1e/d67454bc5abb4b72184fe7ac40cdd518cc9774f3a350a3fa00e3da0110e5/python-daily-med-0.1.0b74.tar.gz#sha256=433f785348c59add420cc8da9381a25e675085e0dd8da473113da907de397619 has inconsistent version: filename has '0.1.0b74', but metadata has '0.0.0'\n",
      "WARNING: Discarding https://files.pythonhosted.org/packages/b7/ab/23421f139385b5735f500a33877094cfec0bfd62d7a421d808f94f3a9f49/python-daily-med-0.1.0b72.tar.gz#sha256=9c7a03ee7d75edb775a9ff2b4813d6664bc7bec54d1a651ddfcfb4a60a835d84 (from https://pypi.org/simple/python-daily-med/). Requested python-daily-med from https://files.pythonhosted.org/packages/b7/ab/23421f139385b5735f500a33877094cfec0bfd62d7a421d808f94f3a9f49/python-daily-med-0.1.0b72.tar.gz#sha256=9c7a03ee7d75edb775a9ff2b4813d6664bc7bec54d1a651ddfcfb4a60a835d84 has inconsistent version: filename has '0.1.0b72', but metadata has '0.0.0'\n",
      "WARNING: Discarding https://files.pythonhosted.org/packages/ec/a0/7a701be1bcf4ef83f6831b159c7546ae4ce0b504da433ccc4554a05bf96d/python-daily-med-0.1.0b70.tar.gz#sha256=18f541cd9575c27327d75bd44c497cead8b86b860fdcd461bae7f328432361b9 (from https://pypi.org/simple/python-daily-med/). Requested python-daily-med from https://files.pythonhosted.org/packages/ec/a0/7a701be1bcf4ef83f6831b159c7546ae4ce0b504da433ccc4554a05bf96d/python-daily-med-0.1.0b70.tar.gz#sha256=18f541cd9575c27327d75bd44c497cead8b86b860fdcd461bae7f328432361b9 has inconsistent version: filename has '0.1.0b70', but metadata has '0.0.0'\n",
      "WARNING: Discarding https://files.pythonhosted.org/packages/00/db/e23bc812d68b4b96b5db07030c4734a600e8cc3b273dec6d1f9f87b2dbfd/python-daily-med-0.1.0b68.tar.gz#sha256=abb2e1a693889bacbcca8ecb6537b6ba9eab92df476935a5619ee61a9e7d18bb (from https://pypi.org/simple/python-daily-med/). Requested python-daily-med from https://files.pythonhosted.org/packages/00/db/e23bc812d68b4b96b5db07030c4734a600e8cc3b273dec6d1f9f87b2dbfd/python-daily-med-0.1.0b68.tar.gz#sha256=abb2e1a693889bacbcca8ecb6537b6ba9eab92df476935a5619ee61a9e7d18bb has inconsistent version: filename has '0.1.0b68', but metadata has '0.0.0'\n",
      "WARNING: Discarding https://files.pythonhosted.org/packages/20/cd/d6904a3f76a76a784cef4066e0bd25897a355c5b222d43e98613bf72d9b1/python-daily-med-0.1.0b62.tar.gz#sha256=7a8fc315a6e2cbdc02dabba8449b42ea09e1d75e099eeb908ff90f3610fafcf1 (from https://pypi.org/simple/python-daily-med/). Requested python-daily-med from https://files.pythonhosted.org/packages/20/cd/d6904a3f76a76a784cef4066e0bd25897a355c5b222d43e98613bf72d9b1/python-daily-med-0.1.0b62.tar.gz#sha256=7a8fc315a6e2cbdc02dabba8449b42ea09e1d75e099eeb908ff90f3610fafcf1 has inconsistent version: filename has '0.1.0b62', but metadata has '0.0.0'\n",
      "WARNING: Discarding https://files.pythonhosted.org/packages/ce/d6/7cd08c57510824902c890c8854aef359af801a6d5f99f8f090d1dbbd0787/python-daily-med-0.1.0b60.tar.gz#sha256=e2e2b025e62572248f24b28cb5f42355040f434bc153d09346eca24bc9462b6c (from https://pypi.org/simple/python-daily-med/). Requested python-daily-med from https://files.pythonhosted.org/packages/ce/d6/7cd08c57510824902c890c8854aef359af801a6d5f99f8f090d1dbbd0787/python-daily-med-0.1.0b60.tar.gz#sha256=e2e2b025e62572248f24b28cb5f42355040f434bc153d09346eca24bc9462b6c has inconsistent version: filename has '0.1.0b60', but metadata has '0.0.0'\n",
      "WARNING: Discarding https://files.pythonhosted.org/packages/7c/a2/a95a840db873adff8f7c3962f00d0e8eca9d9451946a5ee1b7cac1b53c25/python-daily-med-0.1.0b58.tar.gz#sha256=9653a80cc32dc9a2c402aa204227cd50bb290df022c6ed61419c4d91859bff10 (from https://pypi.org/simple/python-daily-med/). Requested python-daily-med from https://files.pythonhosted.org/packages/7c/a2/a95a840db873adff8f7c3962f00d0e8eca9d9451946a5ee1b7cac1b53c25/python-daily-med-0.1.0b58.tar.gz#sha256=9653a80cc32dc9a2c402aa204227cd50bb290df022c6ed61419c4d91859bff10 has inconsistent version: filename has '0.1.0b58', but metadata has '0.0.0'\n",
      "WARNING: Discarding https://files.pythonhosted.org/packages/dd/a6/857274f86e9efcf19cf2811a37a909e0c66a1a25ef587c33e3b711f43f3f/python-daily-med-0.1.0b57.tar.gz#sha256=1b24d6d321c3e4013c107cc1db33fbaa2c242c6501a0b25228cec3c3ad35d69b (from https://pypi.org/simple/python-daily-med/). Requested python-daily-med from https://files.pythonhosted.org/packages/dd/a6/857274f86e9efcf19cf2811a37a909e0c66a1a25ef587c33e3b711f43f3f/python-daily-med-0.1.0b57.tar.gz#sha256=1b24d6d321c3e4013c107cc1db33fbaa2c242c6501a0b25228cec3c3ad35d69b has inconsistent version: filename has '0.1.0b57', but metadata has '0.0.0'\n",
      "WARNING: Discarding https://files.pythonhosted.org/packages/6b/73/283bdfa0bf12ad7a9c08f8965b203aed48742a40ac77e84bac489f78168f/python-daily-med-0.1.0b54.tar.gz#sha256=1d671dc4cb3af18e4083d27c4ae1507331eee8b204077d090bc2a3e2d91b21c0 (from https://pypi.org/simple/python-daily-med/). Requested python-daily-med from https://files.pythonhosted.org/packages/6b/73/283bdfa0bf12ad7a9c08f8965b203aed48742a40ac77e84bac489f78168f/python-daily-med-0.1.0b54.tar.gz#sha256=1d671dc4cb3af18e4083d27c4ae1507331eee8b204077d090bc2a3e2d91b21c0 has inconsistent version: filename has '0.1.0b54', but metadata has '0.0.0'\n",
      "WARNING: Discarding https://files.pythonhosted.org/packages/8c/b3/961e607b0c65ce05b6b21143538c2d5f1b736333164ccf3886241c184949/python-daily-med-0.1.0b52.tar.gz#sha256=c7641430563c44598706d34d072486ca6b24391167da196bedf9ee95b135d0d5 (from https://pypi.org/simple/python-daily-med/). Requested python-daily-med from https://files.pythonhosted.org/packages/8c/b3/961e607b0c65ce05b6b21143538c2d5f1b736333164ccf3886241c184949/python-daily-med-0.1.0b52.tar.gz#sha256=c7641430563c44598706d34d072486ca6b24391167da196bedf9ee95b135d0d5 has inconsistent version: filename has '0.1.0b52', but metadata has '0.0.0'\n",
      "WARNING: You are using pip version 21.1.1; however, version 21.1.2 is available.\n",
      "You should consider upgrading via the 'C:\\Users\\nvu\\anaconda3\\python.exe -m pip install --upgrade pip' command.\n"
     ]
    }
   ],
   "source": [
    "pip install python-daily-med"
   ]
  },
  {
   "cell_type": "code",
   "execution_count": null,
   "metadata": {},
   "outputs": [],
   "source": []
  }
 ],
 "metadata": {
  "kernelspec": {
   "display_name": "Python 3",
   "language": "python",
   "name": "python3"
  },
  "language_info": {
   "codemirror_mode": {
    "name": "ipython",
    "version": 3
   },
   "file_extension": ".py",
   "mimetype": "text/x-python",
   "name": "python",
   "nbconvert_exporter": "python",
   "pygments_lexer": "ipython3",
   "version": "3.8.5"
  }
 },
 "nbformat": 4,
 "nbformat_minor": 4
}
