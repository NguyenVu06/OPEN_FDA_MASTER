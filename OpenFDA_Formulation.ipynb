{
 "cells": [
  {
   "cell_type": "code",
   "execution_count": 1,
   "metadata": {},
   "outputs": [
    {
     "data": {
      "text/plain": [
       "'\\nOpenFDA Label Query for basic DP infomation. \\nOptimized for Speed\\nNguyen D. Vu\\n'"
      ]
     },
     "execution_count": 1,
     "metadata": {},
     "output_type": "execute_result"
    }
   ],
   "source": [
    "'''\n",
    "OpenFDA Label Query for basic DP infomation. \n",
    "Optimized for Speed\n",
    "Nguyen D. Vu\n",
    "'''"
   ]
  },
  {
   "cell_type": "code",
   "execution_count": 2,
   "metadata": {},
   "outputs": [],
   "source": [
    "# Import Necessary Modules (some may not be immediately necessary )\n",
    "import os\n",
    "import numpy as np\n",
    "import pandas as pd\n",
    "import requests\n",
    "import json\n",
    "import itertools\n",
    "import re"
   ]
  },
  {
   "cell_type": "code",
   "execution_count": null,
   "metadata": {},
   "outputs": [],
   "source": [
    "def API_list(x):\n",
    "    pass"
   ]
  },
  {
   "cell_type": "code",
   "execution_count": 3,
   "metadata": {},
   "outputs": [],
   "source": [
    "# list of drugs to test\n",
    "fdg_target = \"midazolam,Propofol,cisatracurium,ciprofloxacin,Albuterol,Desloratadine,Donepezil,Ezetimibe,Glimepiride,Glipizide,Meloxicam,Metoclopramide,Ondansetron,Rivastigmine,Tolterodine\".lower()\n",
    "\n",
    "target_drugs_ls = fdg_target.split(\",\")"
   ]
  },
  {
   "cell_type": "code",
   "execution_count": 4,
   "metadata": {},
   "outputs": [],
   "source": [
    "def json_get(key_str, json_obj):\n",
    "    try:\n",
    "        return json_obj[key_str][0]\n",
    "    except (KeyError, AttributeError):\n",
    "        return 'Not_Found'\n",
    "    "
   ]
  },
  {
   "cell_type": "code",
   "execution_count": 5,
   "metadata": {},
   "outputs": [],
   "source": [
    "#define search Parameter on Label DB on Open FDA\n",
    "\n",
    "#Enpoint to search for API from label\n",
    "url_root = \"https://api.fda.gov/drug/label.json?\"\n",
    "APIkey = \"api_key=ieSIcZGsM6K0XVG6kL7UiQb4Yw3cDN1z2bwO4XPl\"\n",
    "\n",
    "# Define search field\n",
    "field = \"openfda.substance_name:\"\n",
    "\n"
   ]
  },
  {
   "cell_type": "code",
   "execution_count": 6,
   "metadata": {},
   "outputs": [
    {
     "name": "stdout",
     "output_type": "stream",
     "text": [
      "No more matches found for midazolam\n",
      "No more matches found for propofol\n",
      "No more matches found for cisatracurium\n",
      "No more matches found for ciprofloxacin\n",
      "No more matches found for albuterol\n",
      "No more matches found for desloratadine\n",
      "No more matches found for donepezil\n",
      "No more matches found for ezetimibe\n",
      "No more matches found for glimepiride\n",
      "No more matches found for glipizide\n",
      "No more matches found for meloxicam\n",
      "No more matches found for metoclopramide\n",
      "No more matches found for ondansetron\n",
      "No more matches found for rivastigmine\n",
      "No more matches found for tolterodine\n"
     ]
    }
   ],
   "source": [
    "stored_results = {\n",
    "    \"API\":[],\n",
    "    \"Description\":[],\n",
    "    \"SPL\":[],\n",
    "    \"openFDA\":[]\n",
    "}\n",
    "\n",
    "\n",
    "for API in target_drugs_ls:\n",
    "    # define method to limit and skip through pages of query up to 26,000 results.\n",
    "    lim = 1000\n",
    "    skip = 0\n",
    " \n",
    "\n",
    "    while True:\n",
    "        lim_str = \"&limit=\"\n",
    "        skp_str = \"&skip=\"\n",
    "        query = url_root+APIkey+\"&search=\"+field+API+lim_str+str(lim)+skp_str+str(skip)\n",
    "        try:\n",
    "            req = requests.get(query)\n",
    "            req.raise_for_status()\n",
    "\n",
    "            #load Results to Json\n",
    "            js_read = req.json()\n",
    "            drug = js_read['results']\n",
    "            desc = [json_get(key_str='description', json_obj=i) for i in drug]\n",
    "            spl_elements = [json_get(key_str='spl_product_data_elements', json_obj=i) for i in drug]\n",
    "            open_fda = [i['openfda'] for i in drug]\n",
    "            \n",
    "            stored_results['API'].extend([API for i in drug])\n",
    "            stored_results['Description'].extend(desc)\n",
    "            stored_results['SPL'].extend(spl_elements)\n",
    "            stored_results['openFDA'].extend(open_fda)\n",
    "            \n",
    "            \n",
    "            skip += lim\n",
    "        except requests.exceptions.HTTPError as e:\n",
    "            print (\"No more matches found for {}\".format(API))\n",
    "            break\n",
    "\n",
    "\n"
   ]
  },
  {
   "cell_type": "code",
   "execution_count": 7,
   "metadata": {},
   "outputs": [
    {
     "name": "stdout",
     "output_type": "stream",
     "text": [
      "['spl_set_id', 'is_original_packager', 'spl_id', 'package_ndc', 'product_ndc', 'brand_name', 'product_type', 'pharm_class_moa', 'pharm_class_cs', 'pharm_class_epc', 'substance_name', 'pharm_class_pe', 'upc', 'application_number', 'nui', 'unii', 'route', 'manufacturer_name', 'generic_name', 'original_packager_product_ndc', 'rxcui']\n"
     ]
    }
   ],
   "source": [
    "#get the list of interested columns in open FDA section\n",
    "openfda_keys = []\n",
    "for i in (stored_results['openFDA']):\n",
    "    openfda_keys.extend(i.keys())\n",
    "\n",
    "openfda_keys = list(set(openfda_keys))\n",
    "\n",
    "# print to decide the column of interest\n",
    "print(openfda_keys)\n"
   ]
  },
  {
   "cell_type": "code",
   "execution_count": 8,
   "metadata": {},
   "outputs": [],
   "source": [
    "#define columns to extract from the open_fda portions:\n",
    "openfda_list = ['package_ndc', 'unii', 'manufacturer_name', 'pharm_class_pe', 'product_type', 'brand_name', 'substance_name', 'pharm_class_cs', 'pharm_class_epc', 'route']\n",
    "openfda_dict = {i:[] for i in openfda_list}\n",
    "\n",
    "for i in stored_results['openFDA']:\n",
    "    for key in openfda_dict:\n",
    "        try:\n",
    "            openfda_dict[key].append(i[key])\n",
    "        except (KeyError, AttributeError):\n",
    "            openfda_dict[key].append([\"No_Info\"])\n",
    "    "
   ]
  },
  {
   "cell_type": "code",
   "execution_count": 9,
   "metadata": {},
   "outputs": [
    {
     "data": {
      "text/plain": [
       "dict_keys(['package_ndc', 'unii', 'manufacturer_name', 'pharm_class_pe', 'product_type', 'brand_name', 'substance_name', 'pharm_class_cs', 'pharm_class_epc', 'route'])"
      ]
     },
     "execution_count": 9,
     "metadata": {},
     "output_type": "execute_result"
    }
   ],
   "source": [
    "openfda_dict.keys()"
   ]
  },
  {
   "cell_type": "code",
   "execution_count": 10,
   "metadata": {},
   "outputs": [
    {
     "name": "stdout",
     "output_type": "stream",
     "text": [
      "<class 'dict'>\n",
      "<class 'dict'>\n"
     ]
    }
   ],
   "source": [
    "#combine dictionary\n",
    "\n",
    "print(type(stored_results))\n",
    "print(type(openfda_dict))\n",
    "\n",
    "data = {**stored_results, **openfda_dict}"
   ]
  },
  {
   "cell_type": "code",
   "execution_count": 11,
   "metadata": {},
   "outputs": [],
   "source": [
    "data.pop('openFDA')\n",
    "df_ = pd.DataFrame.from_dict(data)"
   ]
  },
  {
   "cell_type": "code",
   "execution_count": 12,
   "metadata": {},
   "outputs": [
    {
     "name": "stdout",
     "output_type": "stream",
     "text": [
      "(1192, 13)\n"
     ]
    },
    {
     "data": {
      "text/html": [
       "<div>\n",
       "<style scoped>\n",
       "    .dataframe tbody tr th:only-of-type {\n",
       "        vertical-align: middle;\n",
       "    }\n",
       "\n",
       "    .dataframe tbody tr th {\n",
       "        vertical-align: top;\n",
       "    }\n",
       "\n",
       "    .dataframe thead th {\n",
       "        text-align: right;\n",
       "    }\n",
       "</style>\n",
       "<table border=\"1\" class=\"dataframe\">\n",
       "  <thead>\n",
       "    <tr style=\"text-align: right;\">\n",
       "      <th></th>\n",
       "      <th>API</th>\n",
       "      <th>Description</th>\n",
       "      <th>SPL</th>\n",
       "      <th>package_ndc</th>\n",
       "      <th>unii</th>\n",
       "      <th>manufacturer_name</th>\n",
       "      <th>pharm_class_pe</th>\n",
       "      <th>product_type</th>\n",
       "      <th>brand_name</th>\n",
       "      <th>substance_name</th>\n",
       "      <th>pharm_class_cs</th>\n",
       "      <th>pharm_class_epc</th>\n",
       "      <th>route</th>\n",
       "    </tr>\n",
       "  </thead>\n",
       "  <tbody>\n",
       "    <tr>\n",
       "      <th>0</th>\n",
       "      <td>midazolam</td>\n",
       "      <td>DESCRIPTION Midazolam hydrochloride is a water...</td>\n",
       "      <td>MIDAZOLAM midazoalm MIDAZOLAM HYDROCHLORIDE MI...</td>\n",
       "      <td>[52584-749-01]</td>\n",
       "      <td>[W7TTW573JJ]</td>\n",
       "      <td>[General Injectables and Vaccines, Inc.]</td>\n",
       "      <td>[No_Info]</td>\n",
       "      <td>[HUMAN PRESCRIPTION DRUG]</td>\n",
       "      <td>[MIDAZOLAM]</td>\n",
       "      <td>[MIDAZOLAM HYDROCHLORIDE]</td>\n",
       "      <td>[No_Info]</td>\n",
       "      <td>[No_Info]</td>\n",
       "      <td>[INTRAMUSCULAR, INTRAVENOUS]</td>\n",
       "    </tr>\n",
       "    <tr>\n",
       "      <th>1</th>\n",
       "      <td>midazolam</td>\n",
       "      <td>DESCRIPTION: Midazolam hydrochloride is a wate...</td>\n",
       "      <td>Midazolam Midazolam Hydrochloride MIDAZOLAM HY...</td>\n",
       "      <td>[63323-412-00]</td>\n",
       "      <td>[W7TTW573JJ]</td>\n",
       "      <td>[Fresenius Kabi USA, LLC]</td>\n",
       "      <td>[No_Info]</td>\n",
       "      <td>[HUMAN PRESCRIPTION DRUG]</td>\n",
       "      <td>[Midazolam]</td>\n",
       "      <td>[MIDAZOLAM HYDROCHLORIDE]</td>\n",
       "      <td>[No_Info]</td>\n",
       "      <td>[No_Info]</td>\n",
       "      <td>[INTRAMUSCULAR, INTRAVENOUS]</td>\n",
       "    </tr>\n",
       "    <tr>\n",
       "      <th>2</th>\n",
       "      <td>midazolam</td>\n",
       "      <td>DESCRIPTION Midazolam is a benzodiazepine avai...</td>\n",
       "      <td>Midazolam Hydrochloride Midazolam Hydrochlorid...</td>\n",
       "      <td>[0574-0150-04]</td>\n",
       "      <td>[W7TTW573JJ]</td>\n",
       "      <td>[Paddock Laboratories, LLC.]</td>\n",
       "      <td>[No_Info]</td>\n",
       "      <td>[HUMAN PRESCRIPTION DRUG]</td>\n",
       "      <td>[Midazolam Hydrochloride]</td>\n",
       "      <td>[MIDAZOLAM HYDROCHLORIDE]</td>\n",
       "      <td>[No_Info]</td>\n",
       "      <td>[No_Info]</td>\n",
       "      <td>[ORAL]</td>\n",
       "    </tr>\n",
       "    <tr>\n",
       "      <th>3</th>\n",
       "      <td>midazolam</td>\n",
       "      <td>DESCRIPTION Midazolam hydrochloride injection ...</td>\n",
       "      <td>Midazolam Hydrochloride MIDAZOLAM HYDROCHLORID...</td>\n",
       "      <td>[0409-2305-16, 0409-2305-17, 0409-2305-02, 040...</td>\n",
       "      <td>[W7TTW573JJ]</td>\n",
       "      <td>[Hospira, Inc.]</td>\n",
       "      <td>[No_Info]</td>\n",
       "      <td>[HUMAN PRESCRIPTION DRUG]</td>\n",
       "      <td>[Midazolam Hydrochloride]</td>\n",
       "      <td>[MIDAZOLAM HYDROCHLORIDE]</td>\n",
       "      <td>[No_Info]</td>\n",
       "      <td>[No_Info]</td>\n",
       "      <td>[INTRAMUSCULAR, INTRAVENOUS]</td>\n",
       "    </tr>\n",
       "    <tr>\n",
       "      <th>4</th>\n",
       "      <td>midazolam</td>\n",
       "      <td>DESCRIPTION: Midazolam Injection, USP is a wat...</td>\n",
       "      <td>Midazolam Midazolam Hydrochloride SODIUM CHLOR...</td>\n",
       "      <td>[76045-211-00, 76045-211-20, 76045-001-00, 760...</td>\n",
       "      <td>[W7TTW573JJ]</td>\n",
       "      <td>[Fresenius Kabi USA, LLC]</td>\n",
       "      <td>[No_Info]</td>\n",
       "      <td>[HUMAN PRESCRIPTION DRUG]</td>\n",
       "      <td>[Midazolam]</td>\n",
       "      <td>[MIDAZOLAM HYDROCHLORIDE]</td>\n",
       "      <td>[No_Info]</td>\n",
       "      <td>[No_Info]</td>\n",
       "      <td>[INTRAMUSCULAR, INTRAVENOUS]</td>\n",
       "    </tr>\n",
       "  </tbody>\n",
       "</table>\n",
       "</div>"
      ],
      "text/plain": [
       "         API                                        Description  \\\n",
       "0  midazolam  DESCRIPTION Midazolam hydrochloride is a water...   \n",
       "1  midazolam  DESCRIPTION: Midazolam hydrochloride is a wate...   \n",
       "2  midazolam  DESCRIPTION Midazolam is a benzodiazepine avai...   \n",
       "3  midazolam  DESCRIPTION Midazolam hydrochloride injection ...   \n",
       "4  midazolam  DESCRIPTION: Midazolam Injection, USP is a wat...   \n",
       "\n",
       "                                                 SPL  \\\n",
       "0  MIDAZOLAM midazoalm MIDAZOLAM HYDROCHLORIDE MI...   \n",
       "1  Midazolam Midazolam Hydrochloride MIDAZOLAM HY...   \n",
       "2  Midazolam Hydrochloride Midazolam Hydrochlorid...   \n",
       "3  Midazolam Hydrochloride MIDAZOLAM HYDROCHLORID...   \n",
       "4  Midazolam Midazolam Hydrochloride SODIUM CHLOR...   \n",
       "\n",
       "                                         package_ndc          unii  \\\n",
       "0                                     [52584-749-01]  [W7TTW573JJ]   \n",
       "1                                     [63323-412-00]  [W7TTW573JJ]   \n",
       "2                                     [0574-0150-04]  [W7TTW573JJ]   \n",
       "3  [0409-2305-16, 0409-2305-17, 0409-2305-02, 040...  [W7TTW573JJ]   \n",
       "4  [76045-211-00, 76045-211-20, 76045-001-00, 760...  [W7TTW573JJ]   \n",
       "\n",
       "                          manufacturer_name pharm_class_pe  \\\n",
       "0  [General Injectables and Vaccines, Inc.]      [No_Info]   \n",
       "1                 [Fresenius Kabi USA, LLC]      [No_Info]   \n",
       "2              [Paddock Laboratories, LLC.]      [No_Info]   \n",
       "3                           [Hospira, Inc.]      [No_Info]   \n",
       "4                 [Fresenius Kabi USA, LLC]      [No_Info]   \n",
       "\n",
       "                product_type                 brand_name  \\\n",
       "0  [HUMAN PRESCRIPTION DRUG]                [MIDAZOLAM]   \n",
       "1  [HUMAN PRESCRIPTION DRUG]                [Midazolam]   \n",
       "2  [HUMAN PRESCRIPTION DRUG]  [Midazolam Hydrochloride]   \n",
       "3  [HUMAN PRESCRIPTION DRUG]  [Midazolam Hydrochloride]   \n",
       "4  [HUMAN PRESCRIPTION DRUG]                [Midazolam]   \n",
       "\n",
       "              substance_name pharm_class_cs pharm_class_epc  \\\n",
       "0  [MIDAZOLAM HYDROCHLORIDE]      [No_Info]       [No_Info]   \n",
       "1  [MIDAZOLAM HYDROCHLORIDE]      [No_Info]       [No_Info]   \n",
       "2  [MIDAZOLAM HYDROCHLORIDE]      [No_Info]       [No_Info]   \n",
       "3  [MIDAZOLAM HYDROCHLORIDE]      [No_Info]       [No_Info]   \n",
       "4  [MIDAZOLAM HYDROCHLORIDE]      [No_Info]       [No_Info]   \n",
       "\n",
       "                          route  \n",
       "0  [INTRAMUSCULAR, INTRAVENOUS]  \n",
       "1  [INTRAMUSCULAR, INTRAVENOUS]  \n",
       "2                        [ORAL]  \n",
       "3  [INTRAMUSCULAR, INTRAVENOUS]  \n",
       "4  [INTRAMUSCULAR, INTRAVENOUS]  "
      ]
     },
     "execution_count": 12,
     "metadata": {},
     "output_type": "execute_result"
    }
   ],
   "source": [
    "print(df_.shape)\n",
    "df_.head()"
   ]
  },
  {
   "cell_type": "code",
   "execution_count": 15,
   "metadata": {},
   "outputs": [
    {
     "data": {
      "text/plain": [
       "dict_keys(['API', 'Description', 'SPL', 'package_ndc', 'unii', 'manufacturer_name', 'pharm_class_pe', 'product_type', 'brand_name', 'substance_name', 'pharm_class_cs', 'pharm_class_epc', 'route'])"
      ]
     },
     "execution_count": 15,
     "metadata": {},
     "output_type": "execute_result"
    }
   ],
   "source": [
    "data.keys()"
   ]
  },
  {
   "cell_type": "code",
   "execution_count": null,
   "metadata": {},
   "outputs": [],
   "source": [
    "#Data Clean up methods:\n",
    "\n",
    "# Define a method to clean up the ingredients list:\n",
    "def getIngredients(x, active_list):\n",
    "    if type(x) is list:\n",
    "        words = \"\".join(x).upper().split(\" \")\n",
    "#         words = [v for i,v in enumerate(words) if i==0 or v!=words[i-1]]\n",
    "\n",
    "        api_words = \" \".join(active_list).upper()\n",
    "        words = [v for v in words if v not in api_words]\n",
    "        words = list(set(words))\n",
    "        #ingredients_list = \" \".join(words)\n",
    "        \n",
    "        return words\n",
    "    \n",
    "    else:\n",
    "        print(\"input must be a list\")\n",
    "\n",
    "\n",
    "# Define a method to flatten out the label NDc list\n",
    "def flatNDC(x):\n",
    "    if type(x) is list:\n",
    "        merged = list(itertools.chain(*x))\n",
    "    else:\n",
    "        merge = x\n",
    "    return merge\n",
    "\n",
    "\n",
    "# Define a method to extract concentrations based on what is in spl_product_data_elements\n",
    "\n",
    "def ingredientsConc(ingr_list, text):\n",
    "    if type(ingr_list) is list:\n",
    "        conc = []\n",
    "        words = \"\".join(ingr_list).upper().split(\" \")\n",
    "        words = [v for i,v in enumerate(words) if i==0 or v!=words[i-1]]\n",
    "        text_in = [text[0] if text==text else \"\"]\n",
    "        text_ = \"\".join(text_in)\n",
    "        for w in words:\n",
    "            pattern = r\"(\\d+[(.?\\d*\\W)|(?:mg|g|ml)]+\\s+{})\".format(w)\n",
    "            p = re.compile(pattern, re.IGNORECASE+re.M)\n",
    "            conc.append(p.findall(text_))\n",
    "        \n",
    "        merged_conc = list(itertools.chain(*conc))\n",
    "        merged_conc = [v for i,v in enumerate(merged_conc) if i==0 or v!=merged_conc[i-1]]\n",
    "        return merged_conc\n",
    "    \n",
    "    else:\n",
    "        print(\"Ingredient List must be a list\")\n",
    "        \n",
    "# define a method for storage temp extract\n",
    "\n",
    "def getStorage(storage_and_handling):\n",
    "    if type(storage_and_handling) is list:\n",
    "\n",
    "        words = \"\".join(storage_and_handling).lower()\n",
    "        \n",
    "        pattern_storeage = r\"(?<=store\\sat )(.*?)(?=\\()\"\n",
    "        p = re.compile(pattern_storeage, re.IGNORECASE+re.M)\n",
    "        store_temp  = p.findall(words)\n",
    "        \n",
    "        return store_temp\n",
    "    \n",
    "    else:\n",
    "        pass\n",
    "\n",
    "# define a method for extracting pH\n",
    "def getpH(description):\n",
    "    if type(description) is list:\n",
    "\n",
    "        words = \"\".join(description)\n",
    "        \n",
    "        pattern_pH = r\"(?<=pH\\s).*?(?=\\d)(\\d*\\W\\d*\\s+\\w+\\s+\\d+\\W\\d+)\"\n",
    "        simp_pattern_pH = r\"(?<=pH\\s).*?(?=\\d)(\\d)\"\n",
    "        store_pH  = re.search(pattern_pH, words, re.MULTILINE)\n",
    "        store_pH_simp  = re.search(simp_pattern_pH, words, re.MULTILINE)\n",
    "        \n",
    "        if store_pH is not None:\n",
    "            return store_pH.group(1)\n",
    "        if store_pH_simp is not None:\n",
    "            return store_pH_simp.group(1)\n",
    "    \n",
    "    else:\n",
    "        pass\n",
    "\n",
    "# define a method for extracting Dose\n",
    "def getDose(data_list):\n",
    "    dose_info = []\n",
    "    for l in data_list:\n",
    "        if type(l) is list:\n",
    "            words = \"\".join(l)\n",
    "            pattern_dose = r\"(multi\\w*|single)(?=\\-+dose)\"\n",
    "            store_dose  = re.search(pattern_dose, words, re.MULTILINE+re.IGNORECASE)\n",
    "            if store_dose is not None:\n",
    "                dose_info.append(store_dose.group(1))\n",
    "        else:\n",
    "            pass\n",
    "    \n",
    "    dose_out = \",\".join(dose_info)\n",
    "    return dose_out\n"
   ]
  },
  {
   "cell_type": "code",
   "execution_count": null,
   "metadata": {},
   "outputs": [],
   "source": []
  }
 ],
 "metadata": {
  "kernelspec": {
   "display_name": "Python 3",
   "language": "python",
   "name": "python3"
  },
  "language_info": {
   "codemirror_mode": {
    "name": "ipython",
    "version": 3
   },
   "file_extension": ".py",
   "mimetype": "text/x-python",
   "name": "python",
   "nbconvert_exporter": "python",
   "pygments_lexer": "ipython3",
   "version": "3.8.5"
  }
 },
 "nbformat": 4,
 "nbformat_minor": 4
}
